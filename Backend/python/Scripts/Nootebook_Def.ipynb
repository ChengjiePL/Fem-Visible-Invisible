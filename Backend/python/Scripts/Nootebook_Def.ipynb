{
 "cells": [
  {
   "cell_type": "markdown",
   "metadata": {},
   "source": [
    "## Imports"
   ]
  },
  {
   "cell_type": "code",
   "execution_count": 131,
   "metadata": {},
   "outputs": [],
   "source": [
    "import pandas as pd\n",
    "from sklearn.model_selection import train_test_split\n",
    "from sklearn.metrics import mean_squared_error, r2_score\n",
    "import numpy as np\n",
    "import calendar\n",
    "import matplotlib.pyplot as plt\n",
    "from sklearn.ensemble import RandomForestRegressor, GradientBoostingRegressor\n",
    "from sklearn.linear_model import LinearRegression\n",
    "from sklearn.svm import SVR\n",
    "from geopy.distance import geodesic\n",
    "import pandas as pd\n",
    "from sklearn.linear_model import LinearRegression\n",
    "from sklearn.preprocessing import StandardScaler\n",
    "from sklearn.model_selection import train_test_split\n",
    "from sklearn.metrics import mean_squared_error\n",
    "from sklearn.preprocessing import PolynomialFeatures\n",
    "from sklearn.pipeline import make_pipeline\n",
    "from sklearn.linear_model import LinearRegression"
   ]
  },
  {
   "cell_type": "markdown",
   "metadata": {},
   "source": [
    "## Utils"
   ]
  },
  {
   "cell_type": "code",
   "execution_count": 132,
   "metadata": {},
   "outputs": [],
   "source": [
    "def get_days_in_month(year, month):\n",
    "    _, num_days = calendar.monthrange(year, month)\n",
    "    return num_days\n",
    "\n",
    "def get_day_in_year(year, month, day):\n",
    "    day_in_year = 0\n",
    "\n",
    "    for m in range(1, month):\n",
    "        day_in_year += get_days_in_month(year, m)\n",
    "\n",
    "    day_in_year += day - 1\n",
    "\n",
    "    return day_in_year\n",
    "\n",
    "def add_hour_features(df):\n",
    "    df['hour_sin'] = np.sin(2 * np.pi * df['hour'] / 24)\n",
    "    df['hour_cos'] = np.cos(2 * np.pi * df['hour'] / 24)\n",
    "    \n",
    "    return df\n",
    "def add_day_in_year_features(df):\n",
    "    # Convertir la variable 'day_in_year' a variables cícliches\n",
    "    df['day_in_year_sin'] = np.sin(2 * np.pi * df['day_in_year'] / 365)\n",
    "    df['day_in_year_cos'] = np.cos(2 * np.pi * df['day_in_year'] / 365)\n",
    "    \n",
    "    return df\n",
    "\n",
    "def add_time_features(df):\n",
    "    df = add_hour_features(df)\n",
    "    \n",
    "    df = add_day_in_year_features(df)\n",
    "    \n",
    "    return df\n",
    "\n",
    "def acostar_a_1(x, factor=0.1):\n",
    "    return x + (1 - x) * factor"
   ]
  },
  {
   "cell_type": "markdown",
   "metadata": {},
   "source": [
    "## Dades"
   ]
  },
  {
   "cell_type": "code",
   "execution_count": 133,
   "metadata": {},
   "outputs": [],
   "source": [
    "observations = pd.read_csv(\"../Data/gene_sconcno2_2023_xvpca_emep_port.csv\")\n",
    "stations_info = pd.read_csv(\"../Data/XVPCA_info_sconcno2_2023.csv\")"
   ]
  },
  {
   "cell_type": "code",
   "execution_count": 134,
   "metadata": {},
   "outputs": [],
   "source": [
    "observations_transformed = observations.melt(id_vars=[\"Date\"], var_name=\"Station\", value_name=\"concentration\")\n",
    "\n",
    "stations_info.rename(columns={\"code\": \"Station\", \"lat\": \"Latitude\", \"lon\": \"Longitude\"}, inplace=True)\n",
    "observations_transformed = observations_transformed.merge(stations_info, on=\"Station\", how=\"left\")\n",
    "\n",
    "observations_transformed = observations_transformed[[\"Date\", \"Latitude\", \"Longitude\", \"concentration\"]]\n",
    "observations_transformed.rename(columns={\"Date\": \"date\", \"Latitude\": \"lat\", \"Longitude\": \"lon\"}, inplace=True)\n",
    "\n",
    "# Eliminar files amb valors NaN en lat, lon o concentració\n",
    "observations_transformed.dropna(subset=[\"lat\", \"lon\", \"concentration\"], inplace=True)"
   ]
  },
  {
   "cell_type": "code",
   "execution_count": 135,
   "metadata": {},
   "outputs": [
    {
     "data": {
      "text/html": [
       "<div>\n",
       "<style scoped>\n",
       "    .dataframe tbody tr th:only-of-type {\n",
       "        vertical-align: middle;\n",
       "    }\n",
       "\n",
       "    .dataframe tbody tr th {\n",
       "        vertical-align: top;\n",
       "    }\n",
       "\n",
       "    .dataframe thead th {\n",
       "        text-align: right;\n",
       "    }\n",
       "</style>\n",
       "<table border=\"1\" class=\"dataframe\">\n",
       "  <thead>\n",
       "    <tr style=\"text-align: right;\">\n",
       "      <th></th>\n",
       "      <th>date</th>\n",
       "      <th>lat</th>\n",
       "      <th>lon</th>\n",
       "      <th>concentration</th>\n",
       "    </tr>\n",
       "  </thead>\n",
       "  <tbody>\n",
       "    <tr>\n",
       "      <th>1</th>\n",
       "      <td>2023-01-01 00:00:00</td>\n",
       "      <td>41.317277</td>\n",
       "      <td>2.134501</td>\n",
       "      <td>19.50</td>\n",
       "    </tr>\n",
       "    <tr>\n",
       "      <th>2</th>\n",
       "      <td>2023-01-01 01:00:00</td>\n",
       "      <td>41.317277</td>\n",
       "      <td>2.134501</td>\n",
       "      <td>18.50</td>\n",
       "    </tr>\n",
       "    <tr>\n",
       "      <th>3</th>\n",
       "      <td>2023-01-01 02:00:00</td>\n",
       "      <td>41.317277</td>\n",
       "      <td>2.134501</td>\n",
       "      <td>18.20</td>\n",
       "    </tr>\n",
       "    <tr>\n",
       "      <th>4</th>\n",
       "      <td>2023-01-01 03:00:00</td>\n",
       "      <td>41.317277</td>\n",
       "      <td>2.134501</td>\n",
       "      <td>22.60</td>\n",
       "    </tr>\n",
       "    <tr>\n",
       "      <th>5</th>\n",
       "      <td>2023-01-01 04:00:00</td>\n",
       "      <td>41.317277</td>\n",
       "      <td>2.134501</td>\n",
       "      <td>16.60</td>\n",
       "    </tr>\n",
       "    <tr>\n",
       "      <th>...</th>\n",
       "      <td>...</td>\n",
       "      <td>...</td>\n",
       "      <td>...</td>\n",
       "      <td>...</td>\n",
       "    </tr>\n",
       "    <tr>\n",
       "      <th>560612</th>\n",
       "      <td>2023-12-30 19:00:00</td>\n",
       "      <td>41.393887</td>\n",
       "      <td>0.734722</td>\n",
       "      <td>6.55</td>\n",
       "    </tr>\n",
       "    <tr>\n",
       "      <th>560613</th>\n",
       "      <td>2023-12-30 20:00:00</td>\n",
       "      <td>41.393887</td>\n",
       "      <td>0.734722</td>\n",
       "      <td>5.07</td>\n",
       "    </tr>\n",
       "    <tr>\n",
       "      <th>560614</th>\n",
       "      <td>2023-12-30 21:00:00</td>\n",
       "      <td>41.393887</td>\n",
       "      <td>0.734722</td>\n",
       "      <td>3.59</td>\n",
       "    </tr>\n",
       "    <tr>\n",
       "      <th>560615</th>\n",
       "      <td>2023-12-30 22:00:00</td>\n",
       "      <td>41.393887</td>\n",
       "      <td>0.734722</td>\n",
       "      <td>3.19</td>\n",
       "    </tr>\n",
       "    <tr>\n",
       "      <th>560616</th>\n",
       "      <td>2023-12-30 23:00:00</td>\n",
       "      <td>41.393887</td>\n",
       "      <td>0.734722</td>\n",
       "      <td>2.63</td>\n",
       "    </tr>\n",
       "  </tbody>\n",
       "</table>\n",
       "<p>529219 rows × 4 columns</p>\n",
       "</div>"
      ],
      "text/plain": [
       "                       date        lat       lon  concentration\n",
       "1       2023-01-01 00:00:00  41.317277  2.134501          19.50\n",
       "2       2023-01-01 01:00:00  41.317277  2.134501          18.50\n",
       "3       2023-01-01 02:00:00  41.317277  2.134501          18.20\n",
       "4       2023-01-01 03:00:00  41.317277  2.134501          22.60\n",
       "5       2023-01-01 04:00:00  41.317277  2.134501          16.60\n",
       "...                     ...        ...       ...            ...\n",
       "560612  2023-12-30 19:00:00  41.393887  0.734722           6.55\n",
       "560613  2023-12-30 20:00:00  41.393887  0.734722           5.07\n",
       "560614  2023-12-30 21:00:00  41.393887  0.734722           3.59\n",
       "560615  2023-12-30 22:00:00  41.393887  0.734722           3.19\n",
       "560616  2023-12-30 23:00:00  41.393887  0.734722           2.63\n",
       "\n",
       "[529219 rows x 4 columns]"
      ]
     },
     "execution_count": 135,
     "metadata": {},
     "output_type": "execute_result"
    }
   ],
   "source": [
    "observations_transformed"
   ]
  },
  {
   "cell_type": "code",
   "execution_count": 136,
   "metadata": {},
   "outputs": [
    {
     "data": {
      "text/plain": [
       "16.075015088271584"
      ]
     },
     "execution_count": 136,
     "metadata": {},
     "output_type": "execute_result"
    }
   ],
   "source": [
    "average_concentration = observations_transformed[\"concentration\"].mean()\n",
    "average_concentration"
   ]
  },
  {
   "cell_type": "code",
   "execution_count": 137,
   "metadata": {},
   "outputs": [
    {
     "name": "stdout",
     "output_type": "stream",
     "text": [
      "Exemple Data Transformed:\n"
     ]
    },
    {
     "data": {
      "text/plain": [
       "lat              41.385366\n",
       "lon               2.154030\n",
       "concentration    27.000000\n",
       "day_in_year      99.000000\n",
       "hour              6.000000\n",
       "Name: 11143, dtype: float64"
      ]
     },
     "execution_count": 137,
     "metadata": {},
     "output_type": "execute_result"
    }
   ],
   "source": [
    "data_transformed = observations_transformed.copy()\n",
    "\n",
    "data_transformed['date'] = pd.to_datetime(data_transformed['date'])\n",
    "\n",
    "data_transformed['day_in_year'] = data_transformed.apply(\n",
    "    lambda row: get_day_in_year(row['date'].year, row['date'].month, row['date'].day), axis=1\n",
    ")\n",
    "data_transformed['hour'] = data_transformed['date'].dt.hour\n",
    "\n",
    "data_transformed = data_transformed.drop(columns=['date'])\n",
    "\n",
    "print(\"Exemple Data Transformed:\")\n",
    "data_transformed.iloc[9999]"
   ]
  },
  {
   "cell_type": "code",
   "execution_count": 138,
   "metadata": {},
   "outputs": [
    {
     "name": "stdout",
     "output_type": "stream",
     "text": [
      "         lat       lon  concentration  hour_sin  hour_cos  day_in_year_sin  \\\n",
      "1  41.317277  2.134501           19.5  0.000000  1.000000              0.0   \n",
      "2  41.317277  2.134501           18.5  0.258819  0.965926              0.0   \n",
      "3  41.317277  2.134501           18.2  0.500000  0.866025              0.0   \n",
      "4  41.317277  2.134501           22.6  0.707107  0.707107              0.0   \n",
      "5  41.317277  2.134501           16.6  0.866025  0.500000              0.0   \n",
      "\n",
      "   day_in_year_cos  \n",
      "1              1.0  \n",
      "2              1.0  \n",
      "3              1.0  \n",
      "4              1.0  \n",
      "5              1.0  \n"
     ]
    }
   ],
   "source": [
    "data_final = add_time_features(data_transformed)\n",
    "\n",
    "data_final = data_final.drop(columns=[\"day_in_year\", \"hour\"])\n",
    "\n",
    "print(data_final.head())"
   ]
  },
  {
   "cell_type": "code",
   "execution_count": 139,
   "metadata": {},
   "outputs": [],
   "source": [
    "X = data_final[['hour_sin', 'hour_cos', 'day_in_year_sin', 'day_in_year_cos']]\n",
    "y = data_final['concentration']"
   ]
  },
  {
   "cell_type": "code",
   "execution_count": 140,
   "metadata": {},
   "outputs": [
    {
     "name": "stdout",
     "output_type": "stream",
     "text": [
      "MSE (normalitzat): 0.8037392289394265\n",
      "Prediccions normalitzades (mitjana): [-0.25860596  0.20080566  0.41171265 -0.21841431  0.55924988]\n",
      "Prediccions desnormalitzades: [11.91792043 19.30296917 22.69330209 12.56400181 25.06496531]\n"
     ]
    }
   ],
   "source": [
    "y_mean = y.mean()\n",
    "\n",
    "# Normalitzar y basat en la mitjana\n",
    "y_normalized = (y - y_mean) / y_mean\n",
    "\n",
    "# Dividir les dades en entrenament i test\n",
    "X_train, X_test, y_train, y_test = train_test_split(X, y_normalized, test_size=0.2, random_state=42)\n",
    "\n",
    "# Transformació polinòmica i regressió lineal\n",
    "poly = PolynomialFeatures(degree=7, include_bias=False)\n",
    "model = make_pipeline(poly, LinearRegression())\n",
    "\n",
    "# Entrenar el model\n",
    "model.fit(X_train, y_train)\n",
    "\n",
    "# Predir valors (normalitzats)\n",
    "y_pred_normalized = model.predict(X_test)\n",
    "\n",
    "# Calcul de l'MSE\n",
    "mse = mean_squared_error(y_test, y_pred_normalized)\n",
    "print(\"MSE (normalitzat):\", mse)\n",
    "\n",
    "# Mostrar les prediccions normalitzades\n",
    "print(\"Prediccions normalitzades (mitjana):\", y_pred_normalized[:5])\n",
    "\n",
    "# Desnormalitzar les prediccions\n",
    "y_pred_original = y_pred_normalized * y_mean + y_mean\n",
    "print(\"Prediccions desnormalitzades:\", y_pred_original[:5])"
   ]
  },
  {
   "cell_type": "code",
   "execution_count": 141,
   "metadata": {},
   "outputs": [
    {
     "data": {
      "image/png": "[encoded data removed]",
      "text/plain": [
       "<Figure size 1000x600 with 1 Axes>"
      ]
     },
     "metadata": {},
     "output_type": "display_data"
    }
   ],
   "source": [
    "day_of_year = 180\n",
    "hour = np.linspace(0, 24, 100)\n",
    "\n",
    "hour_sin = np.sin(2 * np.pi * hour / 24)\n",
    "hour_cos = np.cos(2 * np.pi * hour / 24)\n",
    "day_sin = np.sin(2 * np.pi * day_of_year / 365)\n",
    "day_cos = np.cos(2 * np.pi * day_of_year / 365)\n",
    "\n",
    "X_day = pd.DataFrame({\n",
    "    'hour_sin': hour_sin,\n",
    "    'hour_cos': hour_cos,\n",
    "    'day_in_year_sin': [day_sin] * len(hour),\n",
    "    'day_in_year_cos': [day_cos] * len(hour),\n",
    "})\n",
    "\n",
    "y_pred_day = model.predict(X_day)\n",
    "y_train_sample = y_train[:len(hour)]  # Considerem només els primers valors\n",
    "\n",
    "# Gràfic corregit\n",
    "plt.figure(figsize=(10, 6))\n",
    "\n",
    "# Gràfic de prediccions\n",
    "plt.plot(hour, y_pred_day, label='Predicció Normalitzada', color='blue')\n",
    "\n",
    "# Gràfic de valors d'entrenament\n",
    "plt.scatter(hour[:len(y_train_sample)], y_train_sample, label='Valors Entrenament', color='orange', alpha=0.7)\n",
    "\n",
    "# Estil del gràfic\n",
    "plt.title(f\"Prediccions Normalitzades vs Valors d'Entrenament (Dia {day_of_year})\")\n",
    "plt.xlabel(\"Hora del dia\")\n",
    "plt.ylabel(\"Concentració Normalitzada de NO2\")\n",
    "plt.legend()\n",
    "plt.grid()\n",
    "plt.show()\n"
   ]
  },
  {
   "cell_type": "code",
   "execution_count": 142,
   "metadata": {},
   "outputs": [],
   "source": [
    "def filter_by_radius(data_transformed, center_lat, center_lon, radius_km):\n",
    "    def is_within_radius(row):\n",
    "        center = (center_lat, center_lon)\n",
    "        point = (row[\"lat\"], row[\"lon\"])\n",
    "        return geodesic(center, point).km <= radius_km\n",
    "\n",
    "    filtered_df = data_transformed[data_transformed.apply(is_within_radius, axis=1)]\n",
    "    return filtered_df"
   ]
  },
  {
   "cell_type": "code",
   "execution_count": 143,
   "metadata": {},
   "outputs": [],
   "source": [
    "locations = [(41.39216, 2.009802), (41.11588, 1.191975), (41.44398, 2.237875), (41.32177, 2.082141)]\n",
    "\n",
    "datasets_near = []\n",
    "for lat, lon in locations:\n",
    "    observations_near = filter_by_radius(data_transformed, lat, lon, 5)\n",
    "    datasets_near.append((lat, lon, observations_near))"
   ]
  },
  {
   "cell_type": "code",
   "execution_count": 144,
   "metadata": {},
   "outputs": [
    {
     "data": {
      "text/plain": [
       "(41.39216,\n",
       " 2.009802,\n",
       "               lat       lon  concentration  day_in_year  hour  hour_sin  \\\n",
       " 131400  41.400771  1.999635           29.0          364    23 -0.258819   \n",
       " 131401  41.400771  1.999635           34.0            0     0  0.000000   \n",
       " 131402  41.400771  1.999635           35.0            0     1  0.258819   \n",
       " 131403  41.400771  1.999635           33.0            0     2  0.500000   \n",
       " 131404  41.400771  1.999635           29.0            0     3  0.707107   \n",
       " ...           ...       ...            ...          ...   ...       ...   \n",
       " 148915  41.415319  1.990521            8.0          364    18 -1.000000   \n",
       " 148916  41.415319  1.990521           15.0          364    19 -0.965926   \n",
       " 148917  41.415319  1.990521           17.0          364    20 -0.866025   \n",
       " 148918  41.415319  1.990521           20.0          364    21 -0.707107   \n",
       " 148919  41.415319  1.990521           24.0          364    22 -0.500000   \n",
       " \n",
       "             hour_cos  day_in_year_sin  day_in_year_cos  \n",
       " 131400  9.659258e-01        -0.017213         0.999852  \n",
       " 131401  1.000000e+00         0.000000         1.000000  \n",
       " 131402  9.659258e-01         0.000000         1.000000  \n",
       " 131403  8.660254e-01         0.000000         1.000000  \n",
       " 131404  7.071068e-01         0.000000         1.000000  \n",
       " ...              ...              ...              ...  \n",
       " 148915 -1.836970e-16        -0.017213         0.999852  \n",
       " 148916  2.588190e-01        -0.017213         0.999852  \n",
       " 148917  5.000000e-01        -0.017213         0.999852  \n",
       " 148918  7.071068e-01        -0.017213         0.999852  \n",
       " 148919  8.660254e-01        -0.017213         0.999852  \n",
       " \n",
       " [17201 rows x 9 columns])"
      ]
     },
     "execution_count": 144,
     "metadata": {},
     "output_type": "execute_result"
    }
   ],
   "source": [
    "datasets_near[0]"
   ]
  },
  {
   "cell_type": "code",
   "execution_count": 162,
   "metadata": {},
   "outputs": [],
   "source": [
    "models = []\n",
    "\n",
    "for lat, lon, dataset_near in datasets_near:\n",
    "    X = dataset_near[['hour_sin', 'hour_cos', 'day_in_year_sin', 'day_in_year_cos']]\n",
    "    y = dataset_near['concentration']\n",
    "    \n",
    "    y_mean = y.mean()\n",
    "    y_normalized = (y - y_mean) / y_mean\n",
    "    \n",
    "    poly = PolynomialFeatures(degree=7, include_bias=True)\n",
    "    model = make_pipeline(poly, LinearRegression())\n",
    "    \n",
    "    model.fit(X, y_normalized)\n",
    "    models.append((lat, lon, model, y_mean))"
   ]
  },
  {
   "cell_type": "code",
   "execution_count": 163,
   "metadata": {},
   "outputs": [
    {
     "name": "stderr",
     "output_type": "stream",
     "text": [
      "C:\\Users\\p2004\\AppData\\Local\\Temp\\ipykernel_2488\\3100303948.py:1: FutureWarning: 'H' is deprecated and will be removed in a future version, please use 'h' instead.\n",
      "  dates = pd.date_range(start=\"2023-01-01 00:00\", end=\"2023-12-31 23:00\", freq=\"H\")\n"
     ]
    },
    {
     "name": "stdout",
     "output_type": "stream",
     "text": [
      "Arxiu generat: output_concentration.csv\n"
     ]
    }
   ],
   "source": [
    "dates = pd.date_range(start=\"2023-01-01 00:00\", end=\"2023-12-31 23:00\", freq=\"H\")\n",
    "\n",
    "data = []\n",
    "id_counter = 1\n",
    "\n",
    "# Iterem per cada dataset de les zones properes\n",
    "for lat, lon, dataset_near in datasets_near:\n",
    "    # Obtenir el model corresponent\n",
    "    model_info = next((m for m in models if m[0] == lat and m[1] == lon), None)\n",
    "    if model_info is None:\n",
    "        raise ValueError(f\"No s'ha trobat un model per a la location ({lat}, {lon})\")\n",
    "    \n",
    "    model, y_mean = model_info[2], model_info[3]\n",
    "\n",
    "    # Calcular la concentració mitjana\n",
    "    avg_concentration = dataset_near[\"concentration\"].mean()\n",
    "    \n",
    "    for date in dates:\n",
    "        # Característiques cíclices\n",
    "        hour = date.hour\n",
    "        day_of_year = date.timetuple().tm_yday\n",
    "        \n",
    "        hour_sin = np.sin(2 * np.pi * hour / 24)\n",
    "        hour_cos = np.cos(2 * np.pi * hour / 24)\n",
    "        day_sin = np.sin(2 * np.pi * day_of_year / 365)\n",
    "        day_cos = np.cos(2 * np.pi * day_of_year / 365)\n",
    "        \n",
    "        # Crear el DataFrame per predir\n",
    "        X_single = pd.DataFrame({\n",
    "            'hour_sin': [hour_sin],\n",
    "            'hour_cos': [hour_cos],\n",
    "            'day_in_year_sin': [day_sin],\n",
    "            'day_in_year_cos': [day_cos],\n",
    "        })\n",
    "        \n",
    "        # Predir el coeficient\n",
    "        time_coeficient_normalized = model.predict(X_single)[0]\n",
    "        time_coeficient = time_coeficient_normalized \n",
    "        \n",
    "        data.append({\n",
    "            \"id\": id_counter,\n",
    "            \"date\": date.strftime(\"%Y-%m-%d %H:%M\"),\n",
    "            \"lat\": lat, \n",
    "            \"lon\": lon, \n",
    "            \"concentration\": avg_concentration + (time_coeficient * avg_concentration)\n",
    "        })\n",
    "        id_counter += 1\n",
    "\n",
    "# Crear el DataFrame final\n",
    "output_df = pd.DataFrame(data)\n",
    "\n",
    "# Guardar en un arxiu CSV\n",
    "output_csv_path = \"output_concentration.csv\"\n",
    "output_df.to_csv(output_csv_path, index=False)\n",
    "\n",
    "print(f\"Arxiu generat: {output_csv_path}\")"
   ]
  },
  {
   "cell_type": "code",
   "execution_count": 164,
   "metadata": {},
   "outputs": [
    {
     "data": {
      "text/html": [
       "<div>\n",
       "<style scoped>\n",
       "    .dataframe tbody tr th:only-of-type {\n",
       "        vertical-align: middle;\n",
       "    }\n",
       "\n",
       "    .dataframe tbody tr th {\n",
       "        vertical-align: top;\n",
       "    }\n",
       "\n",
       "    .dataframe thead th {\n",
       "        text-align: right;\n",
       "    }\n",
       "</style>\n",
       "<table border=\"1\" class=\"dataframe\">\n",
       "  <thead>\n",
       "    <tr style=\"text-align: right;\">\n",
       "      <th></th>\n",
       "      <th>id</th>\n",
       "      <th>date</th>\n",
       "      <th>lat</th>\n",
       "      <th>lon</th>\n",
       "      <th>concentration</th>\n",
       "    </tr>\n",
       "  </thead>\n",
       "  <tbody>\n",
       "    <tr>\n",
       "      <th>0</th>\n",
       "      <td>1</td>\n",
       "      <td>2023-01-01 00:00</td>\n",
       "      <td>41.39216</td>\n",
       "      <td>2.009802</td>\n",
       "      <td>28.555568</td>\n",
       "    </tr>\n",
       "    <tr>\n",
       "      <th>1</th>\n",
       "      <td>2</td>\n",
       "      <td>2023-01-01 01:00</td>\n",
       "      <td>41.39216</td>\n",
       "      <td>2.009802</td>\n",
       "      <td>26.367248</td>\n",
       "    </tr>\n",
       "    <tr>\n",
       "      <th>2</th>\n",
       "      <td>3</td>\n",
       "      <td>2023-01-01 02:00</td>\n",
       "      <td>41.39216</td>\n",
       "      <td>2.009802</td>\n",
       "      <td>24.290805</td>\n",
       "    </tr>\n",
       "    <tr>\n",
       "      <th>3</th>\n",
       "      <td>4</td>\n",
       "      <td>2023-01-01 03:00</td>\n",
       "      <td>41.39216</td>\n",
       "      <td>2.009802</td>\n",
       "      <td>22.903526</td>\n",
       "    </tr>\n",
       "    <tr>\n",
       "      <th>4</th>\n",
       "      <td>5</td>\n",
       "      <td>2023-01-01 04:00</td>\n",
       "      <td>41.39216</td>\n",
       "      <td>2.009802</td>\n",
       "      <td>22.563419</td>\n",
       "    </tr>\n",
       "    <tr>\n",
       "      <th>...</th>\n",
       "      <td>...</td>\n",
       "      <td>...</td>\n",
       "      <td>...</td>\n",
       "      <td>...</td>\n",
       "      <td>...</td>\n",
       "    </tr>\n",
       "    <tr>\n",
       "      <th>35035</th>\n",
       "      <td>35036</td>\n",
       "      <td>2023-12-31 19:00</td>\n",
       "      <td>41.32177</td>\n",
       "      <td>2.082141</td>\n",
       "      <td>44.347832</td>\n",
       "    </tr>\n",
       "    <tr>\n",
       "      <th>35036</th>\n",
       "      <td>35037</td>\n",
       "      <td>2023-12-31 20:00</td>\n",
       "      <td>41.32177</td>\n",
       "      <td>2.082141</td>\n",
       "      <td>42.380826</td>\n",
       "    </tr>\n",
       "    <tr>\n",
       "      <th>35037</th>\n",
       "      <td>35038</td>\n",
       "      <td>2023-12-31 21:00</td>\n",
       "      <td>41.32177</td>\n",
       "      <td>2.082141</td>\n",
       "      <td>39.174257</td>\n",
       "    </tr>\n",
       "    <tr>\n",
       "      <th>35038</th>\n",
       "      <td>35039</td>\n",
       "      <td>2023-12-31 22:00</td>\n",
       "      <td>41.32177</td>\n",
       "      <td>2.082141</td>\n",
       "      <td>35.141314</td>\n",
       "    </tr>\n",
       "    <tr>\n",
       "      <th>35039</th>\n",
       "      <td>35040</td>\n",
       "      <td>2023-12-31 23:00</td>\n",
       "      <td>41.32177</td>\n",
       "      <td>2.082141</td>\n",
       "      <td>30.715551</td>\n",
       "    </tr>\n",
       "  </tbody>\n",
       "</table>\n",
       "<p>35040 rows × 5 columns</p>\n",
       "</div>"
      ],
      "text/plain": [
       "          id              date       lat       lon  concentration\n",
       "0          1  2023-01-01 00:00  41.39216  2.009802      28.555568\n",
       "1          2  2023-01-01 01:00  41.39216  2.009802      26.367248\n",
       "2          3  2023-01-01 02:00  41.39216  2.009802      24.290805\n",
       "3          4  2023-01-01 03:00  41.39216  2.009802      22.903526\n",
       "4          5  2023-01-01 04:00  41.39216  2.009802      22.563419\n",
       "...      ...               ...       ...       ...            ...\n",
       "35035  35036  2023-12-31 19:00  41.32177  2.082141      44.347832\n",
       "35036  35037  2023-12-31 20:00  41.32177  2.082141      42.380826\n",
       "35037  35038  2023-12-31 21:00  41.32177  2.082141      39.174257\n",
       "35038  35039  2023-12-31 22:00  41.32177  2.082141      35.141314\n",
       "35039  35040  2023-12-31 23:00  41.32177  2.082141      30.715551\n",
       "\n",
       "[35040 rows x 5 columns]"
      ]
     },
     "execution_count": 164,
     "metadata": {},
     "output_type": "execute_result"
    }
   ],
   "source": [
    "#pd.set_option('display.max_rows', 100)\n",
    "#output_df.head(100)\n",
    "output_df\n"
   ]
  }
 ],
 "metadata": {
  "kernelspec": {
   "display_name": "Python 3",
   "language": "python",
   "name": "python3"
  },
  "language_info": {
   "codemirror_mode": {
    "name": "ipython",
    "version": 3
   },
   "file_extension": ".py",
   "mimetype": "text/x-python",
   "name": "python",
   "nbconvert_exporter": "python",
   "pygments_lexer": "ipython3",
   "version": "3.11.2"
  }
 },
 "nbformat": 4,
 "nbformat_minor": 2
}
