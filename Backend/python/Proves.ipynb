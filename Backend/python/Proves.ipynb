{
 "cells": [
  {
   "cell_type": "code",
   "execution_count": null,
   "metadata": {},
   "outputs": [
    {
     "name": "stdout",
     "output_type": "stream",
     "text": [
      "Estaba lloviendo: False\n"
     ]
    }
   ],
   "source": [
    "\n",
    "\n",
    "  # Handle error or lack of data\n",
    "\n",
    "# Ejemplo para Barcelona\n",
    "lat = 41.3851\n",
    "lon = 2.1734\n",
    "year = 2023\n",
    "day_of_year = 200\n",
    "hour = 15\n",
    "\n",
    "print(\"Estaba lloviendo:\", result)\n"
   ]
  }
 ],
 "metadata": {
  "kernelspec": {
   "display_name": "Python 3",
   "language": "python",
   "name": "python3"
  },
  "language_info": {
   "codemirror_mode": {
    "name": "ipython",
    "version": 3
   },
   "file_extension": ".py",
   "mimetype": "text/x-python",
   "name": "python",
   "nbconvert_exporter": "python",
   "pygments_lexer": "ipython3",
   "version": "3.11.2"
  }
 },
 "nbformat": 4,
 "nbformat_minor": 2
}
